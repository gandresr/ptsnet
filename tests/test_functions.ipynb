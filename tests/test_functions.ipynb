{
 "cells": [
  {
   "cell_type": "code",
   "execution_count": 2,
   "metadata": {},
   "outputs": [],
   "source": [
    "# Imports\n",
    "\n",
    "import matplotlib.pyplot as plt\n",
    "import numpy as np\n",
    "from ptsnet.simulation.sim import PTSNETSimulation\n",
    "from ptsnet.utils.io import get_example_path"
   ]
  },
  {
   "cell_type": "markdown",
   "metadata": {},
   "source": [
    "## Simulation Settings\n",
    "Simulation settings can be defined using a dictionary. We show below the default simulation settings."
   ]
  },
  {
   "cell_type": "code",
   "execution_count": 3,
   "metadata": {},
   "outputs": [],
   "source": [
    "default_settings = {\n",
    "    \"time_step\" : 0.01, # Simulation time step in [s]\n",
    "    \"duration\" : 20, # Simulation duration in [s]\n",
    "    \"warnings_on\" : False,\n",
    "    \"skip_compatibility_check\" : False, # Dismisses the compatibility check to run a faster initialization\n",
    "    \"show_progress\" : False, # Shows progress (Warnings should be off)\n",
    "    \"save_results\" : True, # Saves numerical results in HDF5 format\n",
    "    \"profiler_on\" : False, # Measures computational times of the simulation\n",
    "    \"period\" : 0, # Simulation period for EPS\n",
    "    \"default_wave_speed\" : 1000, # Wave speed value for all pipes in [m/s]\n",
    "    \"wave_speed_file_path\" : None, # Wave speeds can be defined on a separated file with CSV format\n",
    "    \"delimiter\" : ',', # Delimiter of text file with wave speed data | pipe,wave_speed_value\n",
    "    \"wave_speed_method\" : 'optimal' # Method to compute the wave speed adjustment\n",
    "}"
   ]
  },
  {
   "cell_type": "markdown",
   "metadata": {},
   "source": [
    "## Running a Simulation\n",
    "The function `PTSNETSimulation` creates a new PTSNET simulation that reads an input file (.inp) located in the path `inpfile` and parses it. Users can use the test cases provided by the library which include:\n",
    "`[\"B0\", \"B0_SURGE\", \"B1_0\", \"B3\", \"B0_0\", \"B1_1\", \"B4\", \"PIPE_IN_SERIES\", \"TNET3_HAMMER\", \"B0_1\", \"B2\", \"LOOP\"]`. Paths to the test cases can be extracted using the `get_example_path(ex_name)` function."
   ]
  },
  {
   "cell_type": "code",
   "execution_count": 4,
   "metadata": {},
   "outputs": [
    {
     "name": "stdout",
     "output_type": "stream",
     "text": [
      "PTSNETSimulation <duration = 20 [s] | time_steps = 2018 | num_points = 174>\n"
     ]
    }
   ],
   "source": [
    "# Create a simulation\n",
    "sim = PTSNETSimulation(\n",
    "    inpfile = get_example_path('B0'),\n",
    "    settings = default_settings # If settings are not defined, default settings are loaded automatically\n",
    ")\n",
    "print(sim)"
   ]
  },
  {
   "cell_type": "code",
   "execution_count": 5,
   "metadata": {},
   "outputs": [
    {
     "name": "stdout",
     "output_type": "stream",
     "text": [
      "Warning: valves ['VALVE'] are butterfly by default\n"
     ]
    }
   ],
   "source": [
    "sim.initialize()"
   ]
  },
  {
   "cell_type": "code",
   "execution_count": null,
   "metadata": {},
   "outputs": [],
   "source": [
    "print(len(sim.where.nodes['to_points',]))\n",
    "print(len(sim.where.nodes['to_points']))\n",
    "print(len(sim.ic['node'].labels))\n",
    "np.cumsum(sim.where.nodes['to_points',])"
   ]
  },
  {
   "cell_type": "markdown",
   "metadata": {},
   "source": [
    "## Valve Closure\n",
    "Users can manipulate specific valves of the system via the `define_valve_operation` function. The function allows to manipulate one or many pipes (e.g., `sim.all_pipes`). By default the closure occurs linearly varying the setting of the valve."
   ]
  },
  {
   "cell_type": "code",
   "execution_count": null,
   "metadata": {},
   "outputs": [],
   "source": [
    "sim = PTSNETSimulation(inpfile = get_example_path('TNET3_HAMMER'))\n",
    "# sim.define_valve_operation('VALVE-179', initial_setting=1, final_setting=0, start_time=0, end_time=1)\n",
    "sim.run()\n",
    "\n",
    "# Plot results\n",
    "plt.plot(sim['time'], sim['node'].head['JUNCTION-23'], label='JUNCTION-23')\n",
    "plt.xlabel('Time [s]'); plt.ylabel('Head [m]')\n",
    "plt.legend()\n",
    "plt.show()"
   ]
  },
  {
   "cell_type": "markdown",
   "metadata": {},
   "source": [
    "## Pump shut-off\n",
    "Users can shut-off pumps using the `define_pump_operation`. By default the shut-off occurs linearly varying the setting of the pump."
   ]
  },
  {
   "cell_type": "code",
   "execution_count": null,
   "metadata": {},
   "outputs": [],
   "source": [
    "sim = PTSNETSimulation(inpfile = get_example_path('TNET3_HAMMER'))\n",
    "sim.define_pump_operation('PUMP-172', initial_setting=1, final_setting=0, start_time=0, end_time=1)\n",
    "sim.run()\n",
    "\n",
    "# Plot results\n",
    "plt.plot(sim['time'], sim['node'].head['JUNCTION-34'], label='JUNCTION-34')\n",
    "plt.xlabel('Time [s]'); plt.ylabel('Head [m]')\n",
    "plt.legend()\n",
    "plt.show()"
   ]
  },
  {
   "cell_type": "markdown",
   "metadata": {},
   "source": [
    "## Open Surge Tanks\n",
    "We generate a transient by closing all the system's valves in 1 s. We add an open surge protection on node N7, with cross-section area, $A_T = 0.1$ $\\text{m}^2$"
   ]
  },
  {
   "cell_type": "code",
   "execution_count": null,
   "metadata": {},
   "outputs": [],
   "source": [
    "sim = PTSNETSimulation(inpfile = get_example_path('TNET3_HAMMER'))\n",
    "sim.define_pump_operation('PUMP-172', initial_setting=1, final_setting=0, start_time=0, end_time=1)\n",
    "# sim.add_surge_protection('JUNCTION-34', 'open', 0.1)\n",
    "sim.run()\n"
   ]
  },
  {
   "cell_type": "code",
   "execution_count": null,
   "metadata": {},
   "outputs": [],
   "source": [
    "plt.plot(sim['time'], sim['node'].head['JUNCTION-34'], label='JUNCTION-34')\n",
    "plt.plot(sim['time'], sim['node'].head['JUNCTION-30'], label='JUNCTION-30')\n",
    "plt.plot(sim['time'], sim['node'].head['JUNCTION-1'], label='JUNCTION-1')\n",
    "plt.xlabel('Time [s]')\n",
    "plt.ylabel('Head [m]')\n",
    "plt.legend()\n",
    "plt.show()"
   ]
  },
  {
   "cell_type": "markdown",
   "metadata": {},
   "source": [
    "## Closed Surge Tanks\n",
    "We generate a transient by closing all the system's valves in 1 s. We add an closed surge protection on node N7, with cross-section area $A_T = 0.1 \\text{ m}^2$, height $H_T = 1 \\text{ m}$, and initial water level $H_W = 0.2\\text{ m}$."
   ]
  },
  {
   "cell_type": "code",
   "execution_count": null,
   "metadata": {},
   "outputs": [],
   "source": [
    "sim = PTSNETSimulation(inpfile = get_example_path('TNET3_HAMMER'))\n",
    "sim.define_pump_operation('PUMP-172', initial_setting=1, final_setting=0, start_time=0, end_time=1)\n",
    "# sim.add_surge_protection('JUNCTION-34', 'closed', 0.1, 1, 0.2)\n",
    "sim.run()"
   ]
  },
  {
   "cell_type": "code",
   "execution_count": null,
   "metadata": {},
   "outputs": [],
   "source": [
    "plt.plot(sim['time'], sim['node'].head['JUNCTION-34'], label='JUNCTION-34')\n",
    "plt.plot(sim['time'], sim['node'].head['JUNCTION-30'], label='JUNCTION-30')\n",
    "plt.plot(sim['time'], sim['node'].head['JUNCTION-1'], label='JUNCTION-1')\n",
    "plt.plot(sim['time'], sim['node'].head['JUNCTION-4'], label='JUNCTION-4')\n",
    "plt.xlabel('Time [s]')\n",
    "plt.ylabel('Head [m]')\n",
    "plt.legend()\n",
    "plt.show()"
   ]
  },
  {
   "cell_type": "markdown",
   "metadata": {},
   "source": [
    "## Leaks\n",
    "Leaks can only be modeled as emitters via the .inp file"
   ]
  },
  {
   "cell_type": "markdown",
   "metadata": {},
   "source": [
    "## Bursts\n",
    "Users can add bursts defining `start_time` and `end_time` values which define how the burst is going to develop. Users have to define the final loss coefficient associated with the burst."
   ]
  },
  {
   "cell_type": "code",
   "execution_count": null,
   "metadata": {},
   "outputs": [],
   "source": [
    "sim = PTSNETSimulation(inpfile = get_example_path('TNET3_HAMMER'), settings={'duration':20})\n",
    "sim.add_burst('JUNCTION-90', 0.02, 0, 1)\n",
    "sim.run()"
   ]
  },
  {
   "cell_type": "code",
   "execution_count": null,
   "metadata": {},
   "outputs": [],
   "source": [
    "plt.plot(sim['time'], sim['node'].head['JUNCTION-90'], label='JUNCTION-90')\n",
    "plt.plot(sim['time'], sim['node'].head['JUNCTION-34'], label='JUNCTION-34')\n",
    "plt.plot(sim['time'], sim['node'].head['JUNCTION-30'], label='JUNCTION-30')\n",
    "plt.plot(sim['time'], sim['node'].head['JUNCTION-4'], label='JUNCTION-4')\n",
    "plt.xlabel('Time [s]')\n",
    "plt.ylabel('Head [m]')\n",
    "plt.legend()\n",
    "plt.show()"
   ]
  },
  {
   "cell_type": "code",
   "execution_count": null,
   "metadata": {},
   "outputs": [],
   "source": []
  }
 ],
 "metadata": {
  "interpreter": {
   "hash": "78db7936b6af7f91eea65f13d86d1d61b89985923ccae2b648472fa00a144677"
  },
  "kernelspec": {
   "display_name": "Python 3.8.10 64-bit ('ptsnet': conda)",
   "name": "python3"
  },
  "language_info": {
   "codemirror_mode": {
    "name": "ipython",
    "version": 3
   },
   "file_extension": ".py",
   "mimetype": "text/x-python",
   "name": "python",
   "nbconvert_exporter": "python",
   "pygments_lexer": "ipython3",
   "version": "3.8.10"
  },
  "orig_nbformat": 4
 },
 "nbformat": 4,
 "nbformat_minor": 2
}
